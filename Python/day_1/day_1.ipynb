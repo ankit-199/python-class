{
 "cells": [
  {
   "cell_type": "markdown",
   "metadata": {},
   "source": [
    "### Python Day 1 \n",
    "I  will start Python today"
   ]
  },
  {
   "cell_type": "code",
   "execution_count": 2,
   "metadata": {},
   "outputs": [
    {
     "name": "stdout",
     "output_type": "stream",
     "text": [
      "Hello World\n"
     ]
    }
   ],
   "source": [
    "print(\"Hello World\")"
   ]
  },
  {
   "cell_type": "code",
   "execution_count": 5,
   "metadata": {},
   "outputs": [
    {
     "name": "stdout",
     "output_type": "stream",
     "text": [
      "enter the value of r: 9\n",
      "the area of a circle is:  254.34\n"
     ]
    }
   ],
   "source": [
    "r=int(input(\"enter the value of r: \"))\n",
    "pi=3.14\n",
    "area=pi*r**2\n",
    "print(\"the area of a circle is: \",area)"
   ]
  },
  {
   "cell_type": "code",
   "execution_count": 6,
   "metadata": {},
   "outputs": [
    {
     "name": "stdout",
     "output_type": "stream",
     "text": [
      "calender\n"
     ]
    }
   ],
   "source": [
    "print(\"calender\")"
   ]
  },
  {
   "cell_type": "code",
   "execution_count": 8,
   "metadata": {},
   "outputs": [
    {
     "name": "stdout",
     "output_type": "stream",
     "text": [
      "happy\n"
     ]
    }
   ],
   "source": [
    "print(\"happy\")"
   ]
  },
  {
   "cell_type": "code",
   "execution_count": 10,
   "metadata": {},
   "outputs": [
    {
     "name": "stdout",
     "output_type": "stream",
     "text": [
      "the area of a triangle is:  7.5\n"
     ]
    }
   ],
   "source": [
    "b=3\n",
    "h=5\n",
    "area=1/2*b*h\n",
    "print(\"the area of a triangle is: \",area)"
   ]
  },
  {
   "cell_type": "code",
   "execution_count": 2,
   "metadata": {},
   "outputs": [
    {
     "name": "stdout",
     "output_type": "stream",
     "text": [
      "Area of the triangle:  30.0\n"
     ]
    }
   ],
   "source": [
    "b=5\n",
    "h=12\n",
    "area=1/2*b*h\n",
    "print(\"Area of the triangle: \",area)"
   ]
  },
  {
   "cell_type": "code",
   "execution_count": 12,
   "metadata": {},
   "outputs": [
    {
     "name": "stdout",
     "output_type": "stream",
     "text": [
      "enter the value of r: 4\n",
      "the area of a circle is:  50.24\n"
     ]
    }
   ],
   "source": [
    "r=int(input(\"enter the value of r: \"))\n",
    "pi=3.14\n",
    "area=pi*r**2\n",
    "print(\"the area of a circle is: \",area)"
   ]
  },
  {
   "cell_type": "code",
   "execution_count": 14,
   "metadata": {},
   "outputs": [
    {
     "name": "stdout",
     "output_type": "stream",
     "text": [
      "enter the value of r: 22\n",
      "the area of a circle is:  1519.76\n"
     ]
    }
   ],
   "source": [
    "r=int(input(\"enter the value of r: \"))\n",
    "pi=3.14\n",
    "area=pi*r**2\n",
    "print(\"the area of a circle is: \",area)"
   ]
  },
  {
   "cell_type": "code",
   "execution_count": 5,
   "metadata": {},
   "outputs": [
    {
     "name": "stdout",
     "output_type": "stream",
     "text": [
      "the multiplcation of a and b : 201\n"
     ]
    }
   ],
   "source": [
    "a=3\n",
    "b=67\n",
    "multiply=a*b\n",
    "print(\"the multiplcation of a and b :\",multiply)"
   ]
  },
  {
   "cell_type": "code",
   "execution_count": 1,
   "metadata": {},
   "outputs": [
    {
     "name": "stdout",
     "output_type": "stream",
     "text": [
      "the value piyush : 2479881.761596548\n"
     ]
    }
   ],
   "source": [
    "a=4567\n",
    "b=543\n",
    "c=4236\n",
    "d=5562\n",
    "piyush=a*b+c/d\n",
    "print(\"the value piyush :\",piyush)"
   ]
  },
  {
   "cell_type": "code",
   "execution_count": 1,
   "metadata": {},
   "outputs": [
    {
     "name": "stdout",
     "output_type": "stream",
     "text": [
      "enter the value of r: 6\n",
      "the area of the circle:  113.04\n"
     ]
    }
   ],
   "source": [
    "r=int(input(\"enter the value of r: \"))\n",
    "pi=3.14\n",
    "area=pi*r**2\n",
    "print(\"the area of the circle: \" ,area)"
   ]
  },
  {
   "cell_type": "code",
   "execution_count": 4,
   "metadata": {},
   "outputs": [
    {
     "name": "stdout",
     "output_type": "stream",
     "text": [
      "enter the value of f4\n",
      "enter the value of s5\n",
      "the value of work: 20\n"
     ]
    }
   ],
   "source": [
    "f=int(input(\"enter the value of f\"))\n",
    "s=int(input(\"enter the value of s\"))\n",
    "w=(f*s)\n",
    "print(\"the value of work:\",w)"
   ]
  },
  {
   "cell_type": "code",
   "execution_count": 2,
   "metadata": {},
   "outputs": [
    {
     "name": "stdout",
     "output_type": "stream",
     "text": [
      "1\n"
     ]
    }
   ],
   "source": [
    "print(4//3)"
   ]
  },
  {
   "cell_type": "code",
   "execution_count": 5,
   "metadata": {},
   "outputs": [
    {
     "name": "stdout",
     "output_type": "stream",
     "text": [
      "2\n"
     ]
    }
   ],
   "source": [
    "print(467%5)"
   ]
  },
  {
   "cell_type": "code",
   "execution_count": 6,
   "metadata": {},
   "outputs": [
    {
     "name": "stdout",
     "output_type": "stream",
     "text": [
      "4321502\n"
     ]
    }
   ],
   "source": [
    "print(11111502%6790000)"
   ]
  },
  {
   "cell_type": "code",
   "execution_count": 7,
   "metadata": {},
   "outputs": [
    {
     "name": "stdout",
     "output_type": "stream",
     "text": [
      "enter the value of r57\n",
      "the area of the circle 10201.86\n"
     ]
    }
   ],
   "source": [
    "r=int(input(\"enter the value of r\"))\n",
    "pi=3.14\n",
    "area= pi*r**2\n",
    "print(\"the area of the circle\",area)"
   ]
  },
  {
   "cell_type": "code",
   "execution_count": 5,
   "metadata": {},
   "outputs": [
    {
     "name": "stdout",
     "output_type": "stream",
     "text": [
      "enter the value6\n",
      "area value 113.04\n"
     ]
    }
   ],
   "source": [
    "r = int(input(\"enter the value\"))\n",
    "area_value = pi*r**2\n",
    "pi=3.14\n",
    "print (\n",
    "    \"area value\", area_value)"
   ]
  },
  {
   "cell_type": "code",
   "execution_count": 4,
   "metadata": {},
   "outputs": [
    {
     "name": "stdout",
     "output_type": "stream",
     "text": [
      "enter the valur of r4\n",
      "area of the circle 50.24\n"
     ]
    }
   ],
   "source": [
    "r=int(input(\"enter the valur of r\"))\n",
    "pi=3.14\n",
    "area=pi*r**2\n",
    "print(\"area of the circle\" , area)"
   ]
  },
  {
   "cell_type": "code",
   "execution_count": null,
   "metadata": {},
   "outputs": [],
   "source": [
    "a = input(\"Enter your name\" )\n",
    "print (\"Hello\" , a)\n",
    "b = input(\"how are you ?\" )\n",
    "print(\"Welcome\" ,a)\n",
    "c = input(\"Enter your favourite personality\" )\n",
    "print(\"Thank you\" , a)\n",
    "print (\"It is amazing to talk you geniunly you are an amazing person \")"
   ]
  },
  {
   "cell_type": "code",
   "execution_count": 3,
   "metadata": {},
   "outputs": [
    {
     "name": "stdout",
     "output_type": "stream",
     "text": [
      "enter the value : 5\n",
      "area  of the circle :  78.5\n"
     ]
    }
   ],
   "source": [
    "r = int(input('enter the value : '))\n",
    "pi = 3.14\n",
    "area = pi*r**2\n",
    "print('area  of the circle : ' , area )"
   ]
  },
  {
   "cell_type": "code",
   "execution_count": 5,
   "metadata": {},
   "outputs": [
    {
     "name": "stdout",
     "output_type": "stream",
     "text": [
      "129.0\n"
     ]
    }
   ],
   "source": [
    "x = 66\n",
    "y = 43\n",
    "r = 2\n",
    "t = 89\n",
    "flower = (x+y)*r-t\n",
    "print(float(flower))"
   ]
  },
  {
   "cell_type": "code",
   "execution_count": null,
   "metadata": {},
   "outputs": [
    {
     "name": "stdout",
     "output_type": "stream",
     "text": [
      " What is your name ? a\n"
     ]
    }
   ],
   "source": [
    "a = input(' What is your name ? ')\n",
    "b = input(\" What is your father's name ? \")\n",
    "c = input(\" What is your mother's name ? \")\n",
    "d = input('Where do you live ? ')\n",
    "e = input(\"What is your father's occupation ? \")\n",
    "f = input(\"What is your mother's occupation ? \")\n",
    "g = input('Are you working or reading now ? ')\n",
    "h = input('In which class do you read ? ')\n",
    "i = input('What are your hobbies ? ')\n",
    "j = input('What do you want to become ? ')\n",
    "k = input('What do you like about yourself most ? ')\n",
    "l = input('What is your negative point ? ')\n",
    "m = input('What is your favourite colour ? ')\n",
    "n = input('What is your favourite subject ? ')\n",
    "print(\"wow , that's a sweet name : , a \")\n",
    "print(\"okey , a \")\n"
   ]
  },
  {
   "cell_type": "code",
   "execution_count": 3,
   "metadata": {},
   "outputs": [
    {
     "name": "stdout",
     "output_type": "stream",
     "text": [
      "area of a triangle :  138.0\n"
     ]
    }
   ],
   "source": [
    "b = 23\n",
    "h = 12\n",
    "area = 1/2*b*h\n",
    "print ('area of a triangle : ', area)"
   ]
  },
  {
   "cell_type": "code",
   "execution_count": 8,
   "metadata": {},
   "outputs": [
    {
     "name": "stdout",
     "output_type": "stream",
     "text": [
      "enter the r : 5\n",
      "area of the circle :  75.0\n"
     ]
    }
   ],
   "source": [
    "r = int(input(\"enter the r : \"))\n",
    "pi = float(int(3.14))\n",
    "area = pi*r**2\n",
    "print('area of the circle : ' , area)"
   ]
  },
  {
   "cell_type": "code",
   "execution_count": null,
   "metadata": {},
   "outputs": [],
   "source": []
  }
 ],
 "metadata": {
  "kernelspec": {
   "display_name": "Python 3",
   "language": "python",
   "name": "python3"
  },
  "language_info": {
   "codemirror_mode": {
    "name": "ipython",
    "version": 3
   },
   "file_extension": ".py",
   "mimetype": "text/x-python",
   "name": "python",
   "nbconvert_exporter": "python",
   "pygments_lexer": "ipython3",
   "version": "3.8.5"
  }
 },
 "nbformat": 4,
 "nbformat_minor": 4
}
